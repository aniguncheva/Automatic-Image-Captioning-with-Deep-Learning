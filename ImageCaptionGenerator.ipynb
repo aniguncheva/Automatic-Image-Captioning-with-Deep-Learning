{
  "nbformat": 4,
  "nbformat_minor": 0,
  "metadata": {
    "colab": {
      "name": "ImageCaptionGenerator.ipynb",
      "provenance": [],
      "collapsed_sections": []
    },
    "kernelspec": {
      "name": "python3",
      "display_name": "Python 3"
    },
    "language_info": {
      "name": "python"
    },
    "accelerator": "GPU"
  },
  "cells": [
    {
      "cell_type": "markdown",
      "metadata": {
        "id": "Pth0_GZUspXs"
      },
      "source": [
        "Mount google drive"
      ]
    },
    {
      "cell_type": "code",
      "metadata": {
        "colab": {
          "base_uri": "https://localhost:8080/"
        },
        "id": "SDwLVrgNW_iF",
        "outputId": "9ce559df-6234-46ec-9f9f-e1e771d8e575"
      },
      "source": [
        "try:\n",
        "    from google.colab import drive\n",
        "    drive.mount('/content/drive', force_remount=True)\n",
        "    COLAB = True\n",
        "    print(\"Note: using Google CoLab\")\n",
        "    %tensorflow_version 2.x\n",
        "except:\n",
        "    print(\"Note: not using Google CoLab\")\n",
        "    COLAB = False"
      ],
      "execution_count": 1,
      "outputs": [
        {
          "output_type": "stream",
          "text": [
            "Mounted at /content/drive\n",
            "Note: using Google CoLab\n"
          ],
          "name": "stdout"
        }
      ]
    },
    {
      "cell_type": "markdown",
      "metadata": {
        "id": "o-wMMJ6dsuwB"
      },
      "source": [
        "Import necessary libraries "
      ]
    },
    {
      "cell_type": "code",
      "metadata": {
        "id": "RsJSC4ipXBcU"
      },
      "source": [
        "from os import listdir\n",
        "from pickle import dump\n",
        "from pickle import load\n",
        "from keras.applications.vgg16 import VGG16\n",
        "from keras.preprocessing.image import load_img\n",
        "from keras.preprocessing.image import img_to_array\n",
        "from keras.applications.vgg16 import preprocess_input\n",
        "from keras.models import Model\n",
        "import numpy as np\n",
        "from keras.preprocessing.text import Tokenizer\n",
        "from collections import Counter\n",
        "from keras.utils import to_categorical\n",
        "from keras.models import Model\n",
        "from keras.layers import Input\n",
        "from keras.layers import Dense\n",
        "from keras.layers import LSTM\n",
        "from keras.layers import Embedding\n",
        "from keras.layers import Dropout\n",
        "from keras.layers.merge import add\n",
        "from keras.utils import plot_model\n",
        "from keras.preprocessing.sequence import pad_sequences\n",
        "from keras.models import load_model\n"
      ],
      "execution_count": 6,
      "outputs": []
    },
    {
      "cell_type": "code",
      "metadata": {
        "colab": {
          "base_uri": "https://localhost:8080/"
        },
        "id": "OoBYRsBnXDyo",
        "outputId": "fac76f80-806d-45d1-886c-6f11ef3b519b"
      },
      "source": [
        "# Load the vgg16 model\n",
        "base_model = VGG16(include_top=True)\n",
        "base_model.summary()"
      ],
      "execution_count": 7,
      "outputs": [
        {
          "output_type": "stream",
          "text": [
            "Model: \"vgg16\"\n",
            "_________________________________________________________________\n",
            "Layer (type)                 Output Shape              Param #   \n",
            "=================================================================\n",
            "input_2 (InputLayer)         [(None, 224, 224, 3)]     0         \n",
            "_________________________________________________________________\n",
            "block1_conv1 (Conv2D)        (None, 224, 224, 64)      1792      \n",
            "_________________________________________________________________\n",
            "block1_conv2 (Conv2D)        (None, 224, 224, 64)      36928     \n",
            "_________________________________________________________________\n",
            "block1_pool (MaxPooling2D)   (None, 112, 112, 64)      0         \n",
            "_________________________________________________________________\n",
            "block2_conv1 (Conv2D)        (None, 112, 112, 128)     73856     \n",
            "_________________________________________________________________\n",
            "block2_conv2 (Conv2D)        (None, 112, 112, 128)     147584    \n",
            "_________________________________________________________________\n",
            "block2_pool (MaxPooling2D)   (None, 56, 56, 128)       0         \n",
            "_________________________________________________________________\n",
            "block3_conv1 (Conv2D)        (None, 56, 56, 256)       295168    \n",
            "_________________________________________________________________\n",
            "block3_conv2 (Conv2D)        (None, 56, 56, 256)       590080    \n",
            "_________________________________________________________________\n",
            "block3_conv3 (Conv2D)        (None, 56, 56, 256)       590080    \n",
            "_________________________________________________________________\n",
            "block3_pool (MaxPooling2D)   (None, 28, 28, 256)       0         \n",
            "_________________________________________________________________\n",
            "block4_conv1 (Conv2D)        (None, 28, 28, 512)       1180160   \n",
            "_________________________________________________________________\n",
            "block4_conv2 (Conv2D)        (None, 28, 28, 512)       2359808   \n",
            "_________________________________________________________________\n",
            "block4_conv3 (Conv2D)        (None, 28, 28, 512)       2359808   \n",
            "_________________________________________________________________\n",
            "block4_pool (MaxPooling2D)   (None, 14, 14, 512)       0         \n",
            "_________________________________________________________________\n",
            "block5_conv1 (Conv2D)        (None, 14, 14, 512)       2359808   \n",
            "_________________________________________________________________\n",
            "block5_conv2 (Conv2D)        (None, 14, 14, 512)       2359808   \n",
            "_________________________________________________________________\n",
            "block5_conv3 (Conv2D)        (None, 14, 14, 512)       2359808   \n",
            "_________________________________________________________________\n",
            "block5_pool (MaxPooling2D)   (None, 7, 7, 512)         0         \n",
            "_________________________________________________________________\n",
            "flatten (Flatten)            (None, 25088)             0         \n",
            "_________________________________________________________________\n",
            "fc1 (Dense)                  (None, 4096)              102764544 \n",
            "_________________________________________________________________\n",
            "fc2 (Dense)                  (None, 4096)              16781312  \n",
            "_________________________________________________________________\n",
            "predictions (Dense)          (None, 1000)              4097000   \n",
            "=================================================================\n",
            "Total params: 138,357,544\n",
            "Trainable params: 138,357,544\n",
            "Non-trainable params: 0\n",
            "_________________________________________________________________\n"
          ],
          "name": "stdout"
        }
      ]
    },
    {
      "cell_type": "code",
      "metadata": {
        "colab": {
          "base_uri": "https://localhost:8080/"
        },
        "id": "9RtyA9pdXIYq",
        "outputId": "ca050d15-ffd8-453d-ec6f-797c7544df10"
      },
      "source": [
        "# Remove the last layer of VGG16 as we don't need it and use the second last \n",
        "# layer fc2 as the output layer  \n",
        "model = Model(inputs=base_model.input, outputs=base_model.get_layer('fc2').output)\n",
        "model.summary()"
      ],
      "execution_count": 8,
      "outputs": [
        {
          "output_type": "stream",
          "text": [
            "Model: \"model_1\"\n",
            "_________________________________________________________________\n",
            "Layer (type)                 Output Shape              Param #   \n",
            "=================================================================\n",
            "input_2 (InputLayer)         [(None, 224, 224, 3)]     0         \n",
            "_________________________________________________________________\n",
            "block1_conv1 (Conv2D)        (None, 224, 224, 64)      1792      \n",
            "_________________________________________________________________\n",
            "block1_conv2 (Conv2D)        (None, 224, 224, 64)      36928     \n",
            "_________________________________________________________________\n",
            "block1_pool (MaxPooling2D)   (None, 112, 112, 64)      0         \n",
            "_________________________________________________________________\n",
            "block2_conv1 (Conv2D)        (None, 112, 112, 128)     73856     \n",
            "_________________________________________________________________\n",
            "block2_conv2 (Conv2D)        (None, 112, 112, 128)     147584    \n",
            "_________________________________________________________________\n",
            "block2_pool (MaxPooling2D)   (None, 56, 56, 128)       0         \n",
            "_________________________________________________________________\n",
            "block3_conv1 (Conv2D)        (None, 56, 56, 256)       295168    \n",
            "_________________________________________________________________\n",
            "block3_conv2 (Conv2D)        (None, 56, 56, 256)       590080    \n",
            "_________________________________________________________________\n",
            "block3_conv3 (Conv2D)        (None, 56, 56, 256)       590080    \n",
            "_________________________________________________________________\n",
            "block3_pool (MaxPooling2D)   (None, 28, 28, 256)       0         \n",
            "_________________________________________________________________\n",
            "block4_conv1 (Conv2D)        (None, 28, 28, 512)       1180160   \n",
            "_________________________________________________________________\n",
            "block4_conv2 (Conv2D)        (None, 28, 28, 512)       2359808   \n",
            "_________________________________________________________________\n",
            "block4_conv3 (Conv2D)        (None, 28, 28, 512)       2359808   \n",
            "_________________________________________________________________\n",
            "block4_pool (MaxPooling2D)   (None, 14, 14, 512)       0         \n",
            "_________________________________________________________________\n",
            "block5_conv1 (Conv2D)        (None, 14, 14, 512)       2359808   \n",
            "_________________________________________________________________\n",
            "block5_conv2 (Conv2D)        (None, 14, 14, 512)       2359808   \n",
            "_________________________________________________________________\n",
            "block5_conv3 (Conv2D)        (None, 14, 14, 512)       2359808   \n",
            "_________________________________________________________________\n",
            "block5_pool (MaxPooling2D)   (None, 7, 7, 512)         0         \n",
            "_________________________________________________________________\n",
            "flatten (Flatten)            (None, 25088)             0         \n",
            "_________________________________________________________________\n",
            "fc1 (Dense)                  (None, 4096)              102764544 \n",
            "_________________________________________________________________\n",
            "fc2 (Dense)                  (None, 4096)              16781312  \n",
            "=================================================================\n",
            "Total params: 134,260,544\n",
            "Trainable params: 134,260,544\n",
            "Non-trainable params: 0\n",
            "_________________________________________________________________\n"
          ],
          "name": "stdout"
        }
      ]
    },
    {
      "cell_type": "markdown",
      "metadata": {
        "id": "uRjo6mYptS0v"
      },
      "source": [
        "Extract the features from all the images "
      ]
    },
    {
      "cell_type": "code",
      "metadata": {
        "id": "D5ouc38JXL-0"
      },
      "source": [
        "features = dict()\n",
        "for file in listdir('/content/drive/My Drive/AI_caption/Flickr8k_Dataset/'):\n",
        "    img_path = '/content/drive/My Drive/AI_caption/Flickr8k_Dataset/' + file\n",
        "    img = load_img(img_path, target_size=(224, 224)) #size is 224,224 by default\n",
        "    x = img_to_array(img) #change to np array\n",
        "    x = np.expand_dims(x, axis=0) #expand to include batch dim at the beginning\n",
        "    x = preprocess_input(x) #make input confirm to VGG16 input format\n",
        "    fc2_features = model.predict(x)\n",
        "    \n",
        "    name_id = file.split('.')[0] #take the file name and use as id in dict\n",
        "    features[name_id] = fc2_features\n",
        "\n",
        "dump(features, open('features_extracted.pkl', 'wb')) #cannot use JSON because ndarray is not JSON serializable"
      ],
      "execution_count": 9,
      "outputs": []
    },
    {
      "cell_type": "markdown",
      "metadata": {
        "id": "aAinrDK_dLNn"
      },
      "source": [
        "Loading Data Sets Image ID"
      ]
    },
    {
      "cell_type": "code",
      "metadata": {
        "id": "p8gQtutkXL8m"
      },
      "source": [
        "def load_data_set_ids(filename):\n",
        "    file = open(filename, 'r')\n",
        "    text = file.read()\n",
        "    file.close()\n",
        "    \n",
        "    dataset = list()\n",
        "    for image_id in text.split('\\n'):\n",
        "        if len(image_id) < 1:\n",
        "            continue\n",
        "            \n",
        "        dataset.append(image_id)\n",
        "    \n",
        "    return set(dataset)\n",
        "training_set = load_data_set_ids('/content/drive/My Drive/AI_caption/Flickr8k_text/Flickr_8k.trainImages.txt')\n",
        "dev_set = load_data_set_ids('/content/drive/My Drive/AI_caption/Flickr8k_text/Flickr_8k.devImages.txt')\n",
        "test_set = load_data_set_ids('/content/drive/My Drive/AI_caption/Flickr8k_text/Flickr_8k.testImages.txt')"
      ],
      "execution_count": 10,
      "outputs": []
    },
    {
      "cell_type": "markdown",
      "metadata": {
        "id": "xvwwwvqDtee5"
      },
      "source": [
        "Captions clean up:\n",
        "-remove all  numbers and punctuations \n",
        "-lower case only \n",
        "-remove words containing single chars \n",
        "-add 'START' and 'END' "
      ]
    },
    {
      "cell_type": "code",
      "metadata": {
        "colab": {
          "base_uri": "https://localhost:8080/"
        },
        "id": "s8MGZpmCXL6U",
        "outputId": "1c6db90f-fdb0-45a0-baf2-edd4512932d4"
      },
      "source": [
        "import string\n",
        "filename = '/content/drive/My Drive/AI_caption/Flickr8k_text/Flickr8k.token.txt'\n",
        "file = open(filename, 'r')\n",
        "token_text = file.read()\n",
        "file.close()\n",
        "\n",
        "translator = str.maketrans(\"\", \"\", string.punctuation) #translation table that maps all punctuation to None\n",
        "image_captions = dict()\n",
        "image_captions_train = dict()\n",
        "image_captions_dev = dict()\n",
        "image_captions_test = dict()\n",
        "image_captions_other = dict()\n",
        "corpus = list() #corpus used to train tokenizer\n",
        "corpus.extend(['<START>', '<END>', '<UNK>']) #add SOS and EOS to list first\n",
        "\n",
        "max_imageCap_len = 0\n",
        "\n",
        "for line in token_text.split('\\n'): # first split on new line\n",
        "    tokens = line.split(' ') #split on white space, the first segment is 1000268201_693b08cb0e.jpg#0, the following segements are caption texts\n",
        "    if len(line) < 2:\n",
        "        continue\n",
        "    image_id, image_cap = tokens[0], tokens[1:] #use the first segment as image id, the rest as caption\n",
        "    image_id = image_id.split('#')[0] #strip out #0 from filename\n",
        "    image_cap = ' '.join(image_cap) #join image caption together again\n",
        "\n",
        "    image_cap = image_cap.lower() #change to lower case\n",
        "    image_cap = image_cap.translate(translator) #take out punctuation using a translation table\n",
        "    \n",
        "    image_cap = image_cap.split(' ') #split string here because following two methods works on word-level best\n",
        "    image_cap = [w for w in image_cap if w.isalpha()] #keep only words that are all letters\n",
        "    image_cap = [w for w in image_cap if len(w)>1]\n",
        "    image_cap = '<START> ' + ' '.join(image_cap) + ' <END>' #add sentence start/end; note syntax: separator.join()\n",
        "    \n",
        "    #update maximum caption length\n",
        "    if len(image_cap.split()) > max_imageCap_len:\n",
        "        max_imageCap_len = len(image_cap.split())\n",
        "    \n",
        "    #add to dictionary\n",
        "    if image_id not in image_captions:\n",
        "        image_captions[image_id] = list() #creat a new list if it does not yet exist\n",
        "    image_captions[image_id].append(image_cap)\n",
        "    \n",
        "    #add to train/dev/test dictionaries\n",
        "    if image_id in training_set:\n",
        "        if image_id not in image_captions_train:\n",
        "            image_captions_train[image_id] = list() #creat a new list if it does not yet exist\n",
        "        image_captions_train[image_id].append(image_cap)\n",
        "        corpus.extend(image_cap.split()) #add only training words to corpus to train tokenlizer\n",
        "        \n",
        "    elif image_id in dev_set:\n",
        "        if image_id not in image_captions_dev:\n",
        "            image_captions_dev[image_id] = list() #creat a new list if it does not yet exist\n",
        "        image_captions_dev[image_id].append(image_cap)\n",
        "        \n",
        "    elif image_id in test_set:\n",
        "        if image_id not in image_captions_test:\n",
        "            image_captions_test[image_id] = list() #creat a new list if it does not yet exist\n",
        "        image_captions_test[image_id].append(image_cap)\n",
        "    else:\n",
        "        if image_id not in image_captions_other:\n",
        "            image_captions_other[image_id] = list() #creat a new list if it does not yet exist\n",
        "        image_captions_other[image_id].append(image_cap)\n",
        "\n",
        "caption_train_tokenizer = Tokenizer() #initialize tokenizer\n",
        "caption_train_tokenizer.fit_on_texts(corpus) #fit tokenizer on training data\n",
        "    \n",
        "fid = open(\"image_captions.pkl\",\"wb\")\n",
        "dump(image_captions, fid)\n",
        "fid.close()\n",
        "\n",
        "fid = open(\"image_captions_train.pkl\",\"wb\")\n",
        "dump(image_captions_train, fid)\n",
        "fid.close()\n",
        "\n",
        "fid = open(\"image_captions_dev.pkl\",\"wb\")\n",
        "dump(image_captions_dev, fid)\n",
        "fid.close()\n",
        "\n",
        "fid = open(\"image_captions_test.pkl\",\"wb\")\n",
        "dump(image_captions_test, fid)\n",
        "fid.close()\n",
        "\n",
        "fid = open(\"image_captions_other.pkl\",\"wb\")\n",
        "dump(image_captions_other, fid)\n",
        "fid.close()\n",
        "\n",
        "fid = open(\"caption_train_tokenizer.pkl\",\"wb\")\n",
        "dump(caption_train_tokenizer, fid)\n",
        "fid.close()\n",
        "\n",
        "fid = open(\"corpus.pkl\",\"wb\")\n",
        "dump(corpus, fid)\n",
        "fid.close()\n",
        "\n",
        "corpus_count=Counter(corpus)\n",
        "fid = open(\"corpus_count.pkl\",\"wb\")\n",
        "dump(corpus_count, fid)\n",
        "fid.close()\n",
        "\n",
        "print(\"size of data =\", len(image_captions), \"size of training data =\", len(image_captions_train), \"size of dev data =\", len(image_captions_dev), \"size of test data =\", len(image_captions_test), \"size of unused data =\", len(image_captions_other))\n",
        "print(\"maximum image caption length =\",max_imageCap_len)"
      ],
      "execution_count": 11,
      "outputs": [
        {
          "output_type": "stream",
          "text": [
            "size of data = 8092 size of training data = 6000 size of dev data = 1000 size of test data = 1000 size of unused data = 92\n",
            "maximum image caption length = 33\n"
          ],
          "name": "stdout"
        }
      ]
    },
    {
      "cell_type": "markdown",
      "metadata": {
        "id": "hCGXUU6Dt3aw"
      },
      "source": [
        "Use Glove word emdeddings to encode captions into 50D word vectors "
      ]
    },
    {
      "cell_type": "code",
      "metadata": {
        "id": "ilznU_-gXLu_"
      },
      "source": [
        "embeddings_index = dict()\n",
        "fid = open('/content/drive/My Drive/AI_caption/glove.6B/glove.6B.50d.txt' ,encoding=\"utf8\")\n",
        "for line in fid:\n",
        "    values = line.split()\n",
        "    word = values[0]\n",
        "    coefs = np.asarray(values[1:], dtype='float32')\n",
        "    embeddings_index[word] = coefs\n",
        "fid.close()\n",
        "EMBEDDING_DIM = 50\n",
        "word_index = caption_train_tokenizer.word_index\n",
        "embedding_matrix = np.zeros((len(word_index) + 1, EMBEDDING_DIM))\n",
        "\n",
        "for word, idx in word_index.items():\n",
        "    embed_vector = embeddings_index.get(word)\n",
        "    if embed_vector is not None:\n",
        "        # words not found in embedding index will be all-zeros.\n",
        "        embedding_matrix[idx] = embed_vector\n",
        "        \n",
        "fid = open(\"embedding_matrix.pkl\",\"wb\")\n",
        "dump(embedding_matrix, fid)\n",
        "fid.close()"
      ],
      "execution_count": 12,
      "outputs": []
    },
    {
      "cell_type": "markdown",
      "metadata": {
        "id": "ufB1Q8X8uKMg"
      },
      "source": [
        "Generating training data for progressive loading "
      ]
    },
    {
      "cell_type": "code",
      "metadata": {
        "id": "ImhKFO86XLsJ"
      },
      "source": [
        "def create_sequences(tokenizer, max_length, desc_list, photo, vocab_size):\n",
        "    X1, X2, y = list(), list(), list()\n",
        "    # walk through each description for the image\n",
        "    for desc in desc_list:\n",
        "        # encode the sequence\n",
        "        seq = tokenizer.texts_to_sequences([desc])[0] #[0] is used to take out the extra dim. This changes from text to a number\n",
        "        # split one sequence into multiple X,y pairs\n",
        "        for i in range(1, len(seq)):\n",
        "            # split into input and output pair\n",
        "            in_seq, out_seq = seq[:i], seq[i]\n",
        "            # pad input sequence\n",
        "            in_seq = pad_sequences([in_seq], maxlen=max_length)[0]\n",
        "            # encode output sequence\n",
        "            # import pdb; pdb.set_trace()\n",
        "            out_seq = to_categorical([out_seq], num_classes=vocab_size)[0]\n",
        "            # store\n",
        "            X1.append(photo)\n",
        "            X2.append(in_seq)\n",
        "            y.append(out_seq)\n",
        "    return np.array(np.squeeze(X1)), np.array(X2), np.array(y)"
      ],
      "execution_count": 14,
      "outputs": []
    },
    {
      "cell_type": "code",
      "metadata": {
        "id": "7Ie2-0uCXLl1"
      },
      "source": [
        "# data generator, intended to be used in a call to model.fit_generator()\n",
        "def data_generator(descriptions, photos, tokenizer, max_length, batch_size, vocab_size):\n",
        "    # loop for ever over images\n",
        "    current_batch_size=0\n",
        "    while 1:\n",
        "        for key, desc_list in descriptions.items():\n",
        "            # retrieve the photo feature\n",
        "            if current_batch_size == 0:\n",
        "                X1, X2, Y = list(), list(), list()\n",
        "            \n",
        "            imageFeature_id = key.split('.')[0]\n",
        "            photo = photos[imageFeature_id][0]\n",
        "            in_img, in_seq, out_word = create_sequences(tokenizer, max_length, desc_list, photo, vocab_size)\n",
        "            #in_img = np.squeeze(in_img)\n",
        "            X1.extend(in_img)\n",
        "            X2.extend(in_seq)\n",
        "            Y.extend(out_word)\n",
        "            current_batch_size += 1\n",
        "            if current_batch_size == batch_size:\n",
        "                current_batch_size = 0\n",
        "                yield [np.array(X1), np.array(X2)], np.array(Y) "
      ],
      "execution_count": 15,
      "outputs": []
    },
    {
      "cell_type": "code",
      "metadata": {
        "id": "zv39fU4AXbb5"
      },
      "source": [
        "from pickle import load\n",
        "fid = open('features_extracted.pkl', 'rb')\n",
        "image_features = load(fid)\n",
        "fid.close()"
      ],
      "execution_count": 16,
      "outputs": []
    },
    {
      "cell_type": "code",
      "metadata": {
        "colab": {
          "base_uri": "https://localhost:8080/"
        },
        "id": "SCcDWKVaXbZm",
        "outputId": "4a1c169e-6976-4112-bc57-38486118f60e"
      },
      "source": [
        "# test the data generator\n",
        "caption_max_length = 33\n",
        "batch_size = 1\n",
        "vocab_size = 7057\n",
        "generator = data_generator(image_captions_train, image_features, caption_train_tokenizer, caption_max_length, batch_size, vocab_size)\n",
        "inputs, outputs = next(generator)\n",
        "print(inputs[0].shape)\n",
        "print(inputs[1].shape)\n",
        "print(outputs.shape)"
      ],
      "execution_count": 17,
      "outputs": [
        {
          "output_type": "stream",
          "text": [
            "(47, 4096)\n",
            "(47, 33)\n",
            "(47, 7057)\n"
          ],
          "name": "stdout"
        }
      ]
    },
    {
      "cell_type": "markdown",
      "metadata": {
        "id": "lVX5sOz0YnjF"
      },
      "source": [
        "Model definition "
      ]
    },
    {
      "cell_type": "code",
      "metadata": {
        "colab": {
          "base_uri": "https://localhost:8080/"
        },
        "id": "xuswF3oEXbXe",
        "outputId": "853be9d5-7a60-4ccd-d7e8-58535adf1712"
      },
      "source": [
        "from keras.layers.merge import concatenate\n",
        "def define_model_concat(vocab_size, max_length, embedding_matrix):\n",
        "    # feature extractor model\n",
        "    inputs1 = Input(shape=(4096,))\n",
        "    image_feature = Dropout(0.5)(inputs1)\n",
        "    image_feature = Dense(256, activation='relu')(image_feature)\n",
        "    # sequence model\n",
        "    inputs2 = Input(shape=(max_length,))\n",
        "    language_feature = Embedding(vocab_size, 50, weights=[embedding_matrix], input_length=max_length, trainable=False)(inputs2)\n",
        "    #Embedding(vocab_size, 256, mask_zero=True)(inputs2) #<<<<<< fix me, add pretrianed embedding\n",
        "    language_feature = Dropout(0.5)(language_feature)\n",
        "    language_feature = LSTM(256)(language_feature)\n",
        "    # decoder model\n",
        "    output = concatenate([image_feature, language_feature])\n",
        "    output = Dense(256, activation='relu')(output)\n",
        "    output = Dense(vocab_size, activation='softmax')(output)\n",
        "    # tie it together [image, seq] [word]\n",
        "    model = Model(inputs=[inputs1, inputs2], outputs=output)\n",
        "    model.compile(loss='categorical_crossentropy', optimizer='adam', metrics=['acc'])\n",
        "    # summarize model\n",
        "    print(model.summary())\n",
        "    plot_model(model, to_file='model_concat.png', show_shapes=True)\n",
        "    return model\n",
        "\n",
        "fid = open(\"embedding_matrix.pkl\",\"rb\")\n",
        "embedding_matrix = load(fid)\n",
        "fid.close()\n",
        "\n",
        "caption_max_length = 33\n",
        "vocab_size = 7506\n",
        "post_rnn_model_concat = define_model_concat(vocab_size, caption_max_length, embedding_matrix)"
      ],
      "execution_count": 19,
      "outputs": [
        {
          "output_type": "stream",
          "text": [
            "Model: \"model_2\"\n",
            "__________________________________________________________________________________________________\n",
            "Layer (type)                    Output Shape         Param #     Connected to                     \n",
            "==================================================================================================\n",
            "input_4 (InputLayer)            [(None, 33)]         0                                            \n",
            "__________________________________________________________________________________________________\n",
            "input_3 (InputLayer)            [(None, 4096)]       0                                            \n",
            "__________________________________________________________________________________________________\n",
            "embedding (Embedding)           (None, 33, 50)       375300      input_4[0][0]                    \n",
            "__________________________________________________________________________________________________\n",
            "dropout (Dropout)               (None, 4096)         0           input_3[0][0]                    \n",
            "__________________________________________________________________________________________________\n",
            "dropout_1 (Dropout)             (None, 33, 50)       0           embedding[0][0]                  \n",
            "__________________________________________________________________________________________________\n",
            "dense (Dense)                   (None, 256)          1048832     dropout[0][0]                    \n",
            "__________________________________________________________________________________________________\n",
            "lstm (LSTM)                     (None, 256)          314368      dropout_1[0][0]                  \n",
            "__________________________________________________________________________________________________\n",
            "concatenate (Concatenate)       (None, 512)          0           dense[0][0]                      \n",
            "                                                                 lstm[0][0]                       \n",
            "__________________________________________________________________________________________________\n",
            "dense_1 (Dense)                 (None, 256)          131328      concatenate[0][0]                \n",
            "__________________________________________________________________________________________________\n",
            "dense_2 (Dense)                 (None, 7506)         1929042     dense_1[0][0]                    \n",
            "==================================================================================================\n",
            "Total params: 3,798,870\n",
            "Trainable params: 3,423,570\n",
            "Non-trainable params: 375,300\n",
            "__________________________________________________________________________________________________\n",
            "None\n"
          ],
          "name": "stdout"
        }
      ]
    },
    {
      "cell_type": "code",
      "metadata": {
        "colab": {
          "base_uri": "https://localhost:8080/",
          "height": 754
        },
        "id": "cnS-UdRde97Q",
        "outputId": "717520ab-5e21-46eb-c9e2-d92a69379955"
      },
      "source": [
        "from keras.utils import plot_model\n",
        "plot_model(post_rnn_model_concat, to_file='model_plot.png', show_shapes=True)"
      ],
      "execution_count": 20,
      "outputs": [
        {
          "output_type": "execute_result",
          "data": {
            "image/png": "[encoded data removed]",
            "text/plain": [
              "<IPython.core.display.Image object>"
            ]
          },
          "metadata": {
            "tags": []
          },
          "execution_count": 20
        }
      ]
    },
    {
      "cell_type": "markdown",
      "metadata": {
        "id": "LEvaGESrYkkP"
      },
      "source": [
        "Training model Epoch 0-10 "
      ]
    },
    {
      "cell_type": "code",
      "metadata": {
        "colab": {
          "base_uri": "https://localhost:8080/"
        },
        "id": "Kt5kYiFkXbU9",
        "outputId": "30aa536e-9e85-4596-c7fe-f89fe61e6e85"
      },
      "source": [
        "#Training Model\n",
        "#We use the progressive loading data generator to generate the training data on-the-fly. For each batch, we generate training data from 3 images.\n",
        "\n",
        "fid = open(\"features_extracted.pkl\",\"rb\")\n",
        "image_features = load(fid)\n",
        "fid.close()\n",
        "\n",
        "fid = open(\"caption_train_tokenizer.pkl\",\"rb\")\n",
        "caption_train_tokenizer = load(fid)\n",
        "fid.close()\n",
        "\n",
        "fid = open(\"image_captions_train.pkl\",\"rb\")\n",
        "image_captions_train = load(fid)\n",
        "fid.close()\n",
        "\n",
        "fid = open(\"image_captions_dev.pkl\",\"rb\")\n",
        "image_captions_dev = load(fid)\n",
        "fid.close()\n",
        "\n",
        "caption_max_length = 33\n",
        "batch_size = 100\n",
        "vocab_size = 7506\n",
        "#generator = data_generator(image_captions_train, image_features, caption_train_tokenizer, caption_max_length, batch_size, vocab_size)\n",
        "\n",
        "#train 1\n",
        "batch_size = 3\n",
        "steps = len(image_captions_train)\n",
        "steps_per_epoch = np.floor(steps/batch_size)\n",
        "\n",
        "epochs = 10\n",
        "\n",
        "for i in range(epochs):\n",
        "\t# create the data generator\n",
        "\tgenerator = data_generator(image_captions_train, image_features, caption_train_tokenizer, caption_max_length, batch_size, vocab_size)\n",
        "\t# fit for one epoch\n",
        "\tpost_rnn_model_concat_hist=post_rnn_model_concat.fit_generator(generator, epochs=1, steps_per_epoch=steps, verbose=1)\n",
        "\t# save model\n",
        "\tpost_rnn_model_concat.save('modelConcat_1_' + str(i) + '.h5')"
      ],
      "execution_count": 21,
      "outputs": [
        {
          "output_type": "stream",
          "text": [
            "/usr/local/lib/python3.7/dist-packages/tensorflow/python/keras/engine/training.py:1844: UserWarning: `Model.fit_generator` is deprecated and will be removed in a future version. Please use `Model.fit`, which supports generators.\n",
            "  warnings.warn('`Model.fit_generator` is deprecated and '\n"
          ],
          "name": "stderr"
        },
        {
          "output_type": "stream",
          "text": [
            "6000/6000 [==============================] - 118s 19ms/step - loss: 4.7860 - acc: 0.2020\n",
            "6000/6000 [==============================] - 113s 19ms/step - loss: 3.5748 - acc: 0.2776\n",
            "6000/6000 [==============================] - 117s 20ms/step - loss: 3.3249 - acc: 0.2922\n",
            "6000/6000 [==============================] - 112s 19ms/step - loss: 3.1926 - acc: 0.3019\n",
            "6000/6000 [==============================] - 112s 19ms/step - loss: 3.1147 - acc: 0.3095\n",
            "6000/6000 [==============================] - 111s 18ms/step - loss: 3.0584 - acc: 0.3153\n",
            "6000/6000 [==============================] - 112s 19ms/step - loss: 3.0210 - acc: 0.3191\n",
            "6000/6000 [==============================] - 112s 19ms/step - loss: 2.9893 - acc: 0.3227\n",
            "6000/6000 [==============================] - 112s 19ms/step - loss: 2.9694 - acc: 0.3251\n",
            "6000/6000 [==============================] - 109s 18ms/step - loss: 2.9495 - acc: 0.3275\n"
          ],
          "name": "stdout"
        }
      ]
    },
    {
      "cell_type": "markdown",
      "metadata": {
        "id": "jjPWlX4Yu-z-"
      },
      "source": [
        "Epoch 10-20 "
      ]
    },
    {
      "cell_type": "code",
      "metadata": {
        "id": "ndVzfx8XewiH",
        "colab": {
          "base_uri": "https://localhost:8080/"
        },
        "outputId": "d4aafa4b-ccbb-4114-94e7-ea2d310d623f"
      },
      "source": [
        "from time import time\n",
        "from keras.callbacks import TensorBoard\n",
        "tensorboard = TensorBoard(log_dir=\"logs/{}\".format(time()))\n",
        "#train 2\n",
        "batch_size = 3\n",
        "steps = len(image_captions_train)\n",
        "steps_per_epoch = np.floor(steps/batch_size)\n",
        "\n",
        "epochs = 10\n",
        "\n",
        "for i in range(epochs):\n",
        "\t# create the data generator\n",
        "\tgenerator = data_generator(image_captions_train, image_features, caption_train_tokenizer, caption_max_length, batch_size, vocab_size)\n",
        "\t# fit for one epoch\n",
        "\tpost_rnn_model_concat_hist=post_rnn_model_concat.fit(generator, epochs=1, steps_per_epoch=steps, verbose=1,callbacks=[tensorboard])\n",
        "\t# save model\n",
        "\tpost_rnn_model_concat.save('modelConcat_2_' + str(i) + '.h5')"
      ],
      "execution_count": 22,
      "outputs": [
        {
          "output_type": "stream",
          "text": [
            "6000/6000 [==============================] - 115s 19ms/step - loss: 2.9303 - acc: 0.3290\n",
            "6000/6000 [==============================] - 116s 19ms/step - loss: 2.9175 - acc: 0.3314\n",
            "6000/6000 [==============================] - 115s 19ms/step - loss: 2.9055 - acc: 0.3326\n",
            "6000/6000 [==============================] - 115s 19ms/step - loss: 2.8969 - acc: 0.3338\n",
            "6000/6000 [==============================] - 116s 19ms/step - loss: 2.8851 - acc: 0.3354\n",
            "6000/6000 [==============================] - 117s 20ms/step - loss: 2.8791 - acc: 0.3355\n",
            "6000/6000 [==============================] - 117s 20ms/step - loss: 2.8699 - acc: 0.3374\n",
            "6000/6000 [==============================] - 116s 19ms/step - loss: 2.8648 - acc: 0.3376\n",
            "6000/6000 [==============================] - 114s 19ms/step - loss: 2.8602 - acc: 0.3384\n",
            "6000/6000 [==============================] - 115s 19ms/step - loss: 2.8582 - acc: 0.3386\n"
          ],
          "name": "stdout"
        }
      ]
    },
    {
      "cell_type": "markdown",
      "metadata": {
        "id": "VyDkZSxWvEpJ"
      },
      "source": [
        "Epoch 20-30 "
      ]
    },
    {
      "cell_type": "code",
      "metadata": {
        "colab": {
          "base_uri": "https://localhost:8080/"
        },
        "id": "XD5hBk3p3sFy",
        "outputId": "bedb47c0-13e2-4ab4-d5fe-d8982dadab18"
      },
      "source": [
        "from time import time\n",
        "from keras.callbacks import TensorBoard\n",
        "tensorboard = TensorBoard(log_dir=\"logs/{}\".format(time()))\n",
        "#train 3\n",
        "batch_size = 3\n",
        "steps = len(image_captions_train)\n",
        "steps_per_epoch = np.floor(steps/batch_size)\n",
        "\n",
        "epochs = 10\n",
        "\n",
        "for i in range(epochs):\n",
        "\t# create the data generator\n",
        "\tgenerator = data_generator(image_captions_train, image_features, caption_train_tokenizer, caption_max_length, batch_size, vocab_size)\n",
        "\t# fit for one epoch\n",
        "\tpost_rnn_model_concat_hist=post_rnn_model_concat.fit(generator, epochs=1, steps_per_epoch=steps, verbose=1,callbacks=[tensorboard])\n",
        "\t# save model\n",
        "\tpost_rnn_model_concat.save('modelConcat_2_' + str(i) + '.h5')"
      ],
      "execution_count": 23,
      "outputs": [
        {
          "output_type": "stream",
          "text": [
            "6000/6000 [==============================] - 114s 19ms/step - loss: 2.8513 - acc: 0.3397\n",
            "6000/6000 [==============================] - 114s 19ms/step - loss: 2.8492 - acc: 0.3403\n",
            "6000/6000 [==============================] - 113s 19ms/step - loss: 2.8457 - acc: 0.3410\n",
            "6000/6000 [==============================] - 114s 19ms/step - loss: 2.8451 - acc: 0.3414\n",
            "6000/6000 [==============================] - 116s 19ms/step - loss: 2.8433 - acc: 0.3415\n",
            "6000/6000 [==============================] - 116s 19ms/step - loss: 2.8390 - acc: 0.3425\n",
            "6000/6000 [==============================] - 118s 20ms/step - loss: 2.8392 - acc: 0.3419\n",
            "6000/6000 [==============================] - 119s 20ms/step - loss: 2.8409 - acc: 0.3428\n",
            "6000/6000 [==============================] - 115s 19ms/step - loss: 2.8352 - acc: 0.3427\n",
            "6000/6000 [==============================] - 113s 19ms/step - loss: 2.8352 - acc: 0.3431\n"
          ],
          "name": "stdout"
        }
      ]
    },
    {
      "cell_type": "markdown",
      "metadata": {
        "id": "n_THVYLvvHBW"
      },
      "source": [
        "Epoch 30-40 "
      ]
    },
    {
      "cell_type": "code",
      "metadata": {
        "colab": {
          "base_uri": "https://localhost:8080/"
        },
        "id": "8tpzRcrcMGbM",
        "outputId": "702245db-6a4d-4ec9-cd33-7792e8e8a301"
      },
      "source": [
        "from time import time\n",
        "from keras.callbacks import TensorBoard\n",
        "tensorboard = TensorBoard(log_dir=\"logs/{}\".format(time()))\n",
        "#train 4\n",
        "batch_size = 6\n",
        "steps = len(image_captions_train)\n",
        "steps_per_epoch = np.floor(steps/batch_size)\n",
        "\n",
        "epochs = 10\n",
        "\n",
        "for i in range(epochs):\n",
        "\t# create the data generator\n",
        "\tgenerator = data_generator(image_captions_train, image_features, caption_train_tokenizer, caption_max_length, batch_size, vocab_size)\n",
        "\t# fit for one epoch\n",
        "\tpost_rnn_model_concat_hist=post_rnn_model_concat.fit(generator, epochs=1, steps_per_epoch=steps, verbose=1,callbacks=[tensorboard])\n",
        "\t# save model\n",
        "\tpost_rnn_model_concat.save('modelConcat_3_' + str(i) + '.h5')"
      ],
      "execution_count": 24,
      "outputs": [
        {
          "output_type": "stream",
          "text": [
            "6000/6000 [==============================] - 214s 36ms/step - loss: 2.7661 - acc: 0.3519\n",
            "6000/6000 [==============================] - 217s 36ms/step - loss: 2.7452 - acc: 0.3544\n",
            "6000/6000 [==============================] - 219s 37ms/step - loss: 2.7299 - acc: 0.3564\n",
            "6000/6000 [==============================] - 220s 37ms/step - loss: 2.7219 - acc: 0.3574\n",
            "6000/6000 [==============================] - 219s 37ms/step - loss: 2.7120 - acc: 0.3589\n",
            "6000/6000 [==============================] - 218s 36ms/step - loss: 2.7057 - acc: 0.3595\n",
            "6000/6000 [==============================] - 217s 36ms/step - loss: 2.6990 - acc: 0.3608\n",
            "6000/6000 [==============================] - 216s 36ms/step - loss: 2.6918 - acc: 0.3613\n",
            "6000/6000 [==============================] - 214s 36ms/step - loss: 2.6867 - acc: 0.3622\n",
            "6000/6000 [==============================] - 214s 36ms/step - loss: 2.6840 - acc: 0.3629\n"
          ],
          "name": "stdout"
        }
      ]
    },
    {
      "cell_type": "markdown",
      "metadata": {
        "id": "8854O0vAvI-d"
      },
      "source": [
        "Epoch 40-50 "
      ]
    },
    {
      "cell_type": "code",
      "metadata": {
        "id": "dyxlTquGfMoF"
      },
      "source": [
        "#train 5\n",
        "batch_size = 6\n",
        "\n",
        "epochs = 10\n",
        "\n",
        "steps = len(image_captions_train)\n",
        "steps_per_epoch = np.floor(steps/batch_size)\n"
      ],
      "execution_count": 25,
      "outputs": []
    },
    {
      "cell_type": "code",
      "metadata": {
        "colab": {
          "base_uri": "https://localhost:8080/"
        },
        "id": "kcKyPsSWfzVk",
        "outputId": "bb592a26-6cda-463c-db7d-d78e662b5806"
      },
      "source": [
        "for i in range(epochs):\n",
        "\t# create the data generator\n",
        "\tgenerator = data_generator(image_captions_train, image_features, caption_train_tokenizer, caption_max_length, batch_size, vocab_size)\n",
        "\t# fit for one epoch\n",
        "\tpost_rnn_model_concat_hist=post_rnn_model_concat.fit(generator, epochs=1, steps_per_epoch=steps, verbose=1)\n",
        "\t# save model\n",
        "\tpost_rnn_model_concat.save('modelConcat_4_' + str(i) + '.h5')"
      ],
      "execution_count": 26,
      "outputs": [
        {
          "output_type": "stream",
          "text": [
            "6000/6000 [==============================] - 211s 35ms/step - loss: 2.6797 - acc: 0.3635\n",
            "6000/6000 [==============================] - 221s 37ms/step - loss: 2.6771 - acc: 0.3642\n",
            "6000/6000 [==============================] - 215s 36ms/step - loss: 2.6693 - acc: 0.3649\n",
            "6000/6000 [==============================] - 215s 36ms/step - loss: 2.6660 - acc: 0.3655\n",
            "6000/6000 [==============================] - 215s 36ms/step - loss: 2.6627 - acc: 0.3661\n",
            "6000/6000 [==============================] - 216s 36ms/step - loss: 2.6607 - acc: 0.3666\n",
            "6000/6000 [==============================] - 219s 36ms/step - loss: 2.6595 - acc: 0.3666\n",
            "6000/6000 [==============================] - 218s 36ms/step - loss: 2.6568 - acc: 0.3674\n",
            "6000/6000 [==============================] - 218s 36ms/step - loss: 2.6520 - acc: 0.3673\n",
            "6000/6000 [==============================] - 221s 37ms/step - loss: 2.6472 - acc: 0.3684\n"
          ],
          "name": "stdout"
        }
      ]
    },
    {
      "cell_type": "markdown",
      "metadata": {
        "id": "KoPqgF-vYgbt"
      },
      "source": [
        "Creating captions "
      ]
    },
    {
      "cell_type": "code",
      "metadata": {
        "id": "faZoK024XbS9"
      },
      "source": [
        "from pickle import load\n",
        "from numpy import argmax\n",
        "from keras.preprocessing.sequence import pad_sequences\n",
        "from keras.applications.vgg16 import VGG16\n",
        "from keras.preprocessing.image import load_img\n",
        "from keras.preprocessing.image import img_to_array\n",
        "from keras.applications.vgg16 import preprocess_input\n",
        "from keras.models import Model\n",
        "from keras.models import load_model\n",
        "import matplotlib.pyplot as plt"
      ],
      "execution_count": 27,
      "outputs": []
    },
    {
      "cell_type": "code",
      "metadata": {
        "id": "OWp3ciXoYLyO"
      },
      "source": [
        "base_model = VGG16(include_top=True)\n",
        "feature_extract_pred_model = Model(inputs=base_model.input, outputs=base_model.get_layer('fc2').output)"
      ],
      "execution_count": 28,
      "outputs": []
    },
    {
      "cell_type": "code",
      "metadata": {
        "id": "rz2fNaVMYLvu"
      },
      "source": [
        "def extract_feature(model, file_name):\n",
        "    img = load_img(file_name, target_size=(224, 224)) #size is 224,224 by default\n",
        "    x = img_to_array(img) #change to np array\n",
        "    x = np.expand_dims(x, axis=0) #expand to include batch dim at the beginning\n",
        "    x = preprocess_input(x) #make input confirm to VGG16 input format\n",
        "    fc2_features = model.predict(x)\n",
        "    return fc2_features\n",
        "# load the tokenizer\n",
        "caption_train_tokenizer = load(open('caption_train_tokenizer.pkl', 'rb'))\n",
        "# pre-define the max sequence length (from training)\n",
        "max_length = 33\n",
        "# load the model\n",
        "pred_model = load_model('modelConcat_4_9.h5')"
      ],
      "execution_count": 29,
      "outputs": []
    },
    {
      "cell_type": "code",
      "metadata": {
        "id": "gdhI5o50YLtj"
      },
      "source": [
        "def generate_caption(pred_model, caption_train_tokenizer, photo, max_length):\n",
        "    in_text = '<START>'\n",
        "    caption_text = list()\n",
        "    for i in range(max_length):\n",
        "            # integer encode input sequence\n",
        "            sequence = caption_train_tokenizer.texts_to_sequences([in_text])[0]\n",
        "            # pad input\n",
        "            sequence = pad_sequences([sequence], maxlen=max_length)\n",
        "            # predict next word\n",
        "            model_softMax_output = pred_model.predict([photo,sequence], verbose=0)\n",
        "            # convert probability to integer\n",
        "            word_index = argmax(model_softMax_output)\n",
        "            # map integer to word\n",
        "            word = caption_train_tokenizer.index_word[word_index]\n",
        "            #print(word)\n",
        "            # stop if we cannot map the word\n",
        "            if word is None:\n",
        "                break\n",
        "            # append as input for generating the next word\n",
        "            in_text += ' ' + word\n",
        "            # stop if we predict the end of the sequence\n",
        "            if word != 'end':\n",
        "                caption_text.append(word)\n",
        "            if word == 'end':\n",
        "                break\n",
        "    return caption_text"
      ],
      "execution_count": 30,
      "outputs": []
    },
    {
      "cell_type": "markdown",
      "metadata": {
        "id": "z0_o0DMFk_dC"
      },
      "source": [
        "Test model on novel images from a google drive folder"
      ]
    },
    {
      "cell_type": "code",
      "metadata": {
        "colab": {
          "base_uri": "https://localhost:8080/",
          "height": 324
        },
        "id": "W_r-XUiikbKQ",
        "outputId": "4c4bb3e4-3d31-4ab1-c2af-45d9328cd7e8"
      },
      "source": [
        "pic ='pic10.jpg'\n",
        "novel_images_path = '/content/'\n",
        "x=plt.imread(novel_images_path+pic)\n",
        "caption_image_fileName = 'pic10.jpg'\n",
        "photo = extract_feature(feature_extract_pred_model, caption_image_fileName)\n",
        "caption = generate_caption(pred_model, caption_train_tokenizer, photo, max_length)\n",
        "plt.imshow(x)\n",
        "plt.show()\n",
        "print(\"Caption:\",)\n",
        "print(\"_____________________________________\")\n",
        "print(' '.join(caption))"
      ],
      "execution_count": 58,
      "outputs": [
        {
          "output_type": "display_data",
          "data": {
            "image/png": "[encoded data removed]",
            "text/plain": [
              "<Figure size 432x288 with 1 Axes>"
            ]
          },
          "metadata": {
            "tags": [],
            "needs_background": "light"
          }
        },
        {
          "output_type": "stream",
          "text": [
            "Caption:\n",
            "_____________________________________\n",
            "man in blue shirt and jean hat is sitting on bench\n"
          ],
          "name": "stdout"
        }
      ]
    },
    {
      "cell_type": "markdown",
      "metadata": {
        "id": "8ZEkEEtQY3Q1"
      },
      "source": [
        "Beam search implementation to compare with greedy search "
      ]
    },
    {
      "cell_type": "code",
      "metadata": {
        "id": "XtvMyYQ2YLpR"
      },
      "source": [
        "def flatten(lst):\n",
        "    return sum( ([x] if not isinstance(x, list) else flatten(x) for x in lst), [] )\n",
        "def generate_caption_beam(pred_model, caption_train_tokenizer, photo, max_length, vocab_size, beam_width):\n",
        "    sequence = caption_train_tokenizer.texts_to_sequences(['<START>'])[0]\n",
        "    sequence = pad_sequences([sequence], maxlen=max_length)\n",
        "    model_softMax_output = np.squeeze(pred_model.predict([photo,sequence], verbose=0))\n",
        "    most_likely_seq=np.argsort(model_softMax_output)[-beam_width:]\n",
        "    most_likely_prob=np.log(model_softMax_output[most_likely_seq])\n",
        "\n",
        "\n",
        "    most_likely_cap = list()\n",
        "    for j in range(beam_width):\n",
        "        most_likely_cap.append(list())\n",
        "        most_likely_cap[j] =[[caption_train_tokenizer.index_word[most_likely_seq[j]]]]\n",
        "\n",
        "    for i in range(max_length):    \n",
        "        temp_prob = np.zeros((beam_width, vocab_size))\n",
        "        for j in range(beam_width):\n",
        "            if most_likely_cap[j][-1] != ['end']: #if not terminated\n",
        "                num_words = len(most_likely_cap[j])\n",
        "                sequence = caption_train_tokenizer.texts_to_sequences(most_likely_cap[j])\n",
        "                sequence = pad_sequences(np.transpose(sequence), maxlen=max_length)\n",
        "                model_softMax_output = pred_model.predict([photo,sequence], verbose=0)\n",
        "                temp_prob[j,] = (1/(num_words)) *(most_likely_prob[j]*(num_words-1) + np.log(model_softMax_output)) #update most likily prob\n",
        "            else:\n",
        "                temp_prob[j,] = most_likely_prob[j] + np.zeros(vocab_size) - np.inf\n",
        "                temp_prob[j,0] = most_likely_prob[j]\n",
        "\n",
        "\n",
        "        x_idx, y_idx = np.unravel_index(temp_prob.flatten().argsort()[-beam_width:], temp_prob.shape)\n",
        "\n",
        "        most_likely_cap_temp = list()\n",
        "        for j in range(beam_width):\n",
        "            most_likely_prob[j] = temp_prob[x_idx[j],y_idx[j]]\n",
        "            most_likely_cap_temp.append(list())\n",
        "            most_likely_cap_temp[j] = most_likely_cap[x_idx[j]].copy()\n",
        "            if most_likely_cap_temp[j][-1] != ['end']:\n",
        "                most_likely_cap_temp[j].append([caption_train_tokenizer.index_word[y_idx[j]]])\n",
        "\n",
        "        most_likely_cap = most_likely_cap_temp.copy()\n",
        "\n",
        "        finished = True\n",
        "        for j in range(beam_width):\n",
        "            if most_likely_cap_temp[j][-1] != ['end']:\n",
        "                finished = False\n",
        "\n",
        "        if finished == True:\n",
        "            break\n",
        "\n",
        "    final_caption = list()\n",
        "\n",
        "    for j in range(beam_width):\n",
        "        final_caption.append(' '.join(flatten(most_likely_cap[j][0:-1])))\n",
        "\n",
        "\n",
        "    return final_caption, most_likely_prob"
      ],
      "execution_count": 59,
      "outputs": []
    },
    {
      "cell_type": "markdown",
      "metadata": {
        "id": "PL9Q3alfvhlV"
      },
      "source": [
        "Test on pictures and print captions and BLEU scores for BEAM K=10 "
      ]
    },
    {
      "cell_type": "code",
      "metadata": {
        "colab": {
          "base_uri": "https://localhost:8080/"
        },
        "id": "EPSgtEhPYLme",
        "outputId": "ef588e67-b557-46e1-dc27-36d54427f2a7"
      },
      "source": [
        "photo = extract_feature(feature_extract_pred_model, 'pic10.jpg')\n",
        "vocab_size = 7506\n",
        "beam_width = 10\n",
        "max_length = 33\n",
        "caption, prob = generate_caption_beam(pred_model, caption_train_tokenizer, photo, max_length,vocab_size,beam_width)\n",
        "print(caption)\n",
        "print(prob)"
      ],
      "execution_count": 64,
      "outputs": [
        {
          "output_type": "stream",
          "text": [
            "/usr/local/lib/python3.7/dist-packages/ipykernel_launcher.py:24: RuntimeWarning: divide by zero encountered in log\n"
          ],
          "name": "stderr"
        },
        {
          "output_type": "stream",
          "text": [
            "['group man man is riding motorcycle on dirt bike', 'person group of people are riding horses in race', 'group man man is riding motorcycle on dirt road', 'group man man is riding his bicycle down the street', 'person group of people are riding horses on dirt road', 'person group of people are riding offroad on dirt track', 'people officers are riding horses on dirt road', 'people officers are riding horses on dirt track', 'person group of people are riding horses on dirt track', 'group man man is riding his bicycle down the road']\n",
            "[-1.2908856 -1.2798772 -1.2762735 -1.2238301 -1.2113031 -1.2020426\n",
            " -1.1983865 -1.1652853 -1.1581838 -1.1436843]\n"
          ],
          "name": "stdout"
        }
      ]
    },
    {
      "cell_type": "code",
      "metadata": {
        "id": "55EEqgryo8tU"
      },
      "source": [
        "post_rnn_model_concat.save('/content/drive/My Drive/modelConcat_4_' + str(i) + '.h5')"
      ],
      "execution_count": 65,
      "outputs": []
    },
    {
      "cell_type": "markdown",
      "metadata": {
        "id": "O7xX5KNPZORK"
      },
      "source": [
        "Evaluation of results \n",
        "-import everything \n",
        "-implement BLEU \n",
        "-test on 1000 test images and print BLEU scores"
      ]
    },
    {
      "cell_type": "code",
      "metadata": {
        "id": "vweE9nU9YLjX"
      },
      "source": [
        "from pickle import load\n",
        "from keras.applications.vgg16 import VGG16\n",
        "from keras.preprocessing.image import load_img\n",
        "from keras.preprocessing.image import img_to_array\n",
        "from keras.applications.vgg16 import preprocess_input\n",
        "from keras.models import Model\n",
        "import numpy as np\n",
        "from keras.preprocessing.text import Tokenizer\n",
        "from keras.models import Model\n",
        "from keras.layers import Input\n",
        "from keras.models import load_model\n",
        "from numpy import argmax"
      ],
      "execution_count": 66,
      "outputs": []
    },
    {
      "cell_type": "code",
      "metadata": {
        "id": "CI1Jog5hYLgd"
      },
      "source": [
        "fid = open(\"/content/features_extracted.pkl\",\"rb\")\n",
        "image_features = load(fid)\n",
        "fid.close()\n",
        "\n",
        "fid = open(\"caption_train_tokenizer.pkl\",\"rb\")\n",
        "caption_train_tokenizer = load(fid)\n",
        "fid.close()\n",
        "\n",
        "fid = open(\"image_captions_test.pkl\",\"rb\")\n",
        "image_captions_test = load(fid)\n",
        "fid.close()\n",
        "\n",
        "# pre-define the max sequence length (from training)\n",
        "max_length = 33\n",
        "# load the model\n",
        "pred_model = load_model('modelConcat_4_9.h5')\n",
        "#pred_model = load_model('model_3_0.h5')\n",
        "\n",
        "base_model = VGG16(include_top=True) #define the image feature extraction model\n",
        "feature_extract_pred_model = Model(inputs=base_model.input, outputs=base_model.get_layer('fc2').output)"
      ],
      "execution_count": 67,
      "outputs": []
    },
    {
      "cell_type": "code",
      "metadata": {
        "id": "TLlm_0qaXbQe"
      },
      "source": [
        "image_captions_candidate = dict()\n",
        "for image_fileName, reference_captions in image_captions_test.items():\n",
        "    image_fileName_feature = image_fileName.split('.')[0]\n",
        "           \n",
        "    photo = features[image_fileName_feature]\n",
        "    image_captions_candidate[image_fileName] = generate_caption(pred_model, caption_train_tokenizer, photo, max_length)\n",
        "    \n",
        "fid = open(\"test_captions_post_concat\",\"wb\")\n",
        "dump(image_captions_candidate, fid)\n",
        "fid.close()"
      ],
      "execution_count": 68,
      "outputs": []
    },
    {
      "cell_type": "code",
      "metadata": {
        "colab": {
          "base_uri": "https://localhost:8080/"
        },
        "id": "QzLh8Fi9XbNx",
        "outputId": "db683a58-3470-4cfc-bf73-f4a8b5bbe5c8"
      },
      "source": [
        "fid = open('features_extracted.pkl','rb')\n",
        "features = load(fid)\n",
        "fid.close()\n",
        "\n",
        "vocab_size = 7506\n",
        "beam_width = 5\n",
        "max_length = 33\n",
        "final_caption, most_likely_prob = generate_caption_beam(pred_model, caption_train_tokenizer, photo, max_length, vocab_size, beam_width)\n",
        "\n",
        "image_captions_candidate_beam5 = dict()\n",
        "for image_fileName, reference_captions in image_captions_test.items():\n",
        "    image_fileName_feature = image_fileName.split('.')[0]\n",
        "           \n",
        "    photo = features[image_fileName_feature]\n",
        "    image_captions_candidate_beam5[image_fileName], _ = generate_caption_beam(pred_model, caption_train_tokenizer, photo, max_length, vocab_size, beam_width)\n",
        "    #print(image_captions_candidate_beam5[image_fileName])\n",
        "    \n",
        "fid = open(\"test_captions_concate_beam5_post\",\"wb\")\n",
        "dump(image_captions_candidate_beam5, fid)\n",
        "fid.close()"
      ],
      "execution_count": 69,
      "outputs": [
        {
          "output_type": "stream",
          "text": [
            "/usr/local/lib/python3.7/dist-packages/ipykernel_launcher.py:24: RuntimeWarning: divide by zero encountered in log\n"
          ],
          "name": "stderr"
        }
      ]
    },
    {
      "cell_type": "markdown",
      "metadata": {
        "id": "rbZ9ibFgZkXt"
      },
      "source": [
        "BLEU"
      ]
    },
    {
      "cell_type": "code",
      "metadata": {
        "id": "lx-4A7KxXbKv"
      },
      "source": [
        "#greedy bleu\n",
        "from nltk.translate.bleu_score import sentence_bleu\n",
        "from nltk.translate.bleu_score import SmoothingFunction\n",
        "from pickle import load\n",
        "\n",
        "fid = open(\"test_captions_post_concat\",\"rb\")\n",
        "image_captions_candidate = load(fid)\n",
        "fid.close()\n",
        "\n",
        "fid = open(\"test_captions_concate_beam5_post\",\"rb\")\n",
        "image_captions_candidate_beam5 = load(fid)\n",
        "fid.close()\n",
        "\n",
        "fid = open(\"image_captions_test.pkl\",\"rb\")\n",
        "image_captions_test = load(fid)\n",
        "fid.close()\n",
        "\n",
        "chencherry = SmoothingFunction()\n",
        "\n",
        "bleu_score = dict()\n",
        "bleu_score_beam5 = dict()\n",
        "for image_fileName, reference_captions in image_captions_test.items():\n",
        "    ref_cap_reformat=list()\n",
        "    for cap in reference_captions:\n",
        "        ref_cap_reformat.append(cap.split()[1:-1])\n",
        "    \n",
        "    bleu_score[image_fileName] = sentence_bleu(ref_cap_reformat, image_captions_candidate[image_fileName], smoothing_function=chencherry.method1)\n",
        "    bleu_score_beam5[image_fileName] = sentence_bleu(ref_cap_reformat, list(image_captions_candidate_beam5[image_fileName][-1].split()), smoothing_function=chencherry.method1)\n",
        "    \n",
        "    \n",
        "#print(bleu_score)"
      ],
      "execution_count": 70,
      "outputs": []
    },
    {
      "cell_type": "markdown",
      "metadata": {
        "id": "ew66dW1QwJ5L"
      },
      "source": [
        "Bleu score for greedy search"
      ]
    },
    {
      "cell_type": "code",
      "metadata": {
        "colab": {
          "base_uri": "https://localhost:8080/"
        },
        "id": "w7djpkqQXLj1",
        "outputId": "75a1cf85-c3a9-4896-c8cf-f8c094fa89f5"
      },
      "source": [
        "import numpy as np\n",
        "bleu_score_array = np.fromiter(bleu_score.values(), dtype=float)\n",
        "print('mean bleu='+str(np.mean(bleu_score_array)) + '; median bleu='+str(np.median(bleu_score_array))+'; max bleu='+str(np.max(bleu_score_array))+'; min bleu='+str(np.min(bleu_score_array))+'; std bleu='+str(np.std(bleu_score_array)))\n",
        "\n"
      ],
      "execution_count": 71,
      "outputs": [
        {
          "output_type": "stream",
          "text": [
            "mean bleu=0.08329028106942474; median bleu=0.04933122379117313; max bleu=1.0; min bleu=0.0; std bleu=0.10724231943139316\n"
          ],
          "name": "stdout"
        }
      ]
    },
    {
      "cell_type": "markdown",
      "metadata": {
        "id": "9ypl2WyYwNbl"
      },
      "source": [
        "Bleu score for beam search with width=5"
      ]
    },
    {
      "cell_type": "code",
      "metadata": {
        "colab": {
          "base_uri": "https://localhost:8080/"
        },
        "id": "Ddtnj_k_nXs7",
        "outputId": "ba714f24-6a36-4d8c-b9f0-7d7a6c267617"
      },
      "source": [
        "bleu_score_beam_5array = np.fromiter(bleu_score_beam5.values(), dtype=float)\n",
        "print('mean beam5 bleu='+str(np.mean(bleu_score_beam_5array)) + '; median beam5 bleu='+str(np.median(bleu_score_beam_5array))+'; max beam5 bleu='+str(np.max(bleu_score_beam_5array))+'; min beam5 bleu='+str(np.min(bleu_score_beam_5array))+'; std beam5 bleu='+str(np.std(bleu_score_beam_5array)))"
      ],
      "execution_count": 72,
      "outputs": [
        {
          "output_type": "stream",
          "text": [
            "mean beam5 bleu=0.07370933431558757; median beam5 bleu=0.04380241859426539; max beam5 bleu=0.6606328636027614; min beam5 bleu=0.0; std beam5 bleu=0.08888932055929587\n"
          ],
          "name": "stdout"
        }
      ]
    },
    {
      "cell_type": "code",
      "metadata": {
        "id": "wMX5l7nbXKUf"
      },
      "source": [
        ""
      ],
      "execution_count": null,
      "outputs": []
    },
    {
      "cell_type": "code",
      "metadata": {
        "id": "c0soZj-AXJdI"
      },
      "source": [
        ""
      ],
      "execution_count": null,
      "outputs": []
    },
    {
      "cell_type": "markdown",
      "metadata": {
        "id": "VKAbdTijZt2t"
      },
      "source": [
        "ROUGE - to be implemented in the future for better evaluation "
      ]
    },
    {
      "cell_type": "code",
      "metadata": {
        "colab": {
          "base_uri": "https://localhost:8080/"
        },
        "id": "SV4amZH4lZdg",
        "outputId": "2efc4e90-21db-40a9-a03c-6e561ea9a621"
      },
      "source": [
        "pip install rouge"
      ],
      "execution_count": null,
      "outputs": [
        {
          "output_type": "stream",
          "text": [
            "Collecting rouge\n",
            "  Downloading https://files.pythonhosted.org/packages/43/cc/e18e33be20971ff73a056ebdb023476b5a545e744e3fc22acd8c758f1e0d/rouge-1.0.0-py3-none-any.whl\n",
            "Requirement already satisfied: six in /usr/local/lib/python3.7/dist-packages (from rouge) (1.15.0)\n",
            "Installing collected packages: rouge\n",
            "Successfully installed rouge-1.0.0\n"
          ],
          "name": "stdout"
        }
      ]
    },
    {
      "cell_type": "code",
      "metadata": {
        "id": "s6pYGiQGZsuG"
      },
      "source": [
        "#greedy rouge\n",
        "from rouge import rouge\n",
        "\n",
        "rouge_score = dict()\n",
        "for image_fileName, reference_captions in image_captions_test.items():\n",
        "    cand=[' '.join(image_captions_candidate[image_fileName])]\n",
        "    ref_cap_reformat=list()\n",
        "    for cap in reference_captions:\n",
        "        ref_cap_reformat.append(' '.join(cap.split()[1:-1]))\n",
        "    \n",
        "    rouge_score[image_fileName] = rouge(cand, ref_cap_reformat)\n",
        "\n",
        "#print(rouge_score)"
      ],
      "execution_count": null,
      "outputs": []
    },
    {
      "cell_type": "code",
      "metadata": {
        "id": "IfHSPBqlZsq3"
      },
      "source": [
        "#rouge beam5\n",
        "from rouge import rouge\n",
        "\n",
        "rouge_score_beam5 = dict()\n",
        "for image_fileName, reference_captions in image_captions_test.items():\n",
        "    cand=[image_captions_candidate_beam5[image_fileName][-1]]\n",
        "    ref_cap_reformat=list()\n",
        "    for cap in reference_captions:\n",
        "        ref_cap_reformat.append(' '.join(cap.split()[1:-1]))\n",
        "    \n",
        "    rouge_score_beam5[image_fileName] = rouge(cand, ref_cap_reformat)\n",
        "\n",
        "#print(rouge_score)"
      ],
      "execution_count": null,
      "outputs": []
    },
    {
      "cell_type": "code",
      "metadata": {
        "id": "jjXUErdPZslJ"
      },
      "source": [
        "num_test = len(rouge_score_beam5)\n",
        "\n",
        "\n",
        "rouge_1_f_score_beam5_array = np.zeros(num_test)\n",
        "rouge_2_f_score_beam5_array = np.zeros(num_test)\n",
        "rouge_l_f_score_beam5_array = np.zeros(num_test)\n",
        "\n",
        "idx = 0\n",
        "for val in rouge_score_beam5.values():\n",
        "    rouge_1_f_score_beam5_array[idx] = val['rouge_1/f_score']\n",
        "    rouge_2_f_score_beam5_array[idx] = val['rouge_2/f_score']\n",
        "    rouge_l_f_score_beam5_array[idx] = val['rouge_l/f_score']\n",
        "    idx += 1\n",
        "    \n",
        "\n",
        "rouge_1_f_score_array = np.zeros(num_test)\n",
        "rouge_2_f_score_array = np.zeros(num_test)\n",
        "rouge_l_f_score_array = np.zeros(num_test)\n",
        "\n",
        "idx = 0\n",
        "for val in rouge_score.values():\n",
        "    rouge_1_f_score_array[idx] = val['rouge_1/f_score']\n",
        "    rouge_2_f_score_array[idx] = val['rouge_2/f_score']\n",
        "    rouge_l_f_score_array[idx] = val['rouge_l/f_score']\n",
        "    idx += 1"
      ],
      "execution_count": null,
      "outputs": []
    }
  ]
}